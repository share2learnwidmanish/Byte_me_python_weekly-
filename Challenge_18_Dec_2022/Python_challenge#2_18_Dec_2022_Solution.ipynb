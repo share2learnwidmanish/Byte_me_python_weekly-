{
 "cells": [
  {
   "cell_type": "markdown",
   "id": "3c325506",
   "metadata": {},
   "source": [
    "### Print following pattern(Hollow Right triangle) for any given number 'n'. \n",
    "1. Ask user number of rows \n",
    "2. Print a hollow right triangle with user defined number of rows \n",
    "Follow the examples below for more details."
   ]
  },
  {
   "attachments": {
    "image-2.png": {
     "image/png": "[encoded data removed]"
    }
   },
   "cell_type": "markdown",
   "id": "c34c8841",
   "metadata": {},
   "source": [
    "### For n = 5\n",
    "![image-2.png](attachment:image-2.png)\n"
   ]
  },
  {
   "attachments": {
    "image.png": {
     "image/png": "[encoded data removed]"
    }
   },
   "cell_type": "markdown",
   "id": "eb3459f8",
   "metadata": {},
   "source": [
    "### For n = 7\n",
    "![image.png](attachment:image.png)"
   ]
  },
  {
   "cell_type": "markdown",
   "id": "144e4adc",
   "metadata": {},
   "source": [
    "### Hint"
   ]
  },
  {
   "cell_type": "code",
   "execution_count": 40,
   "id": "60fd05d8",
   "metadata": {},
   "outputs": [
    {
     "name": "stdout",
     "output_type": "stream",
     "text": [
      "*\n",
      "*\n",
      "*\n",
      "*\n",
      "*\n"
     ]
    }
   ],
   "source": [
    "for row in range(n):\n",
    "    for col in range(n):\n",
    "        if col == 0  :\n",
    "            print('*', end='')\n",
    "    print()"
   ]
  },
  {
   "cell_type": "code",
   "execution_count": 42,
   "id": "f45a2067",
   "metadata": {},
   "outputs": [
    {
     "name": "stdout",
     "output_type": "stream",
     "text": [
      "*\n",
      "*\n",
      "*\n",
      "*\n",
      "*****\n"
     ]
    }
   ],
   "source": [
    "for row in range(n):\n",
    "    for col in range(n):\n",
    "        if col == 0 or row == n-1 :\n",
    "            print('*', end='')\n",
    "    print()"
   ]
  },
  {
   "cell_type": "code",
   "execution_count": 43,
   "id": "8f6d9db6",
   "metadata": {},
   "outputs": [
    {
     "name": "stdout",
     "output_type": "stream",
     "text": [
      "*\n",
      "**\n",
      "**\n",
      "**\n",
      "*****\n"
     ]
    }
   ],
   "source": [
    "for row in range(n):\n",
    "    for col in range(n):\n",
    "        if col == 0 or row == n-1 or row == col :\n",
    "            print('*', end='')\n",
    "    print()"
   ]
  },
  {
   "cell_type": "code",
   "execution_count": 46,
   "id": "df33acdd",
   "metadata": {},
   "outputs": [
    {
     "name": "stdout",
     "output_type": "stream",
     "text": [
      "*      \n",
      "**     \n",
      "* *    \n",
      "*  *   \n",
      "*   *  \n",
      "*    * \n",
      "*******\n"
     ]
    }
   ],
   "source": [
    "n=7\n",
    "for row in range(n):\n",
    "    for col in range(n):\n",
    "        if col == 0 or row == n-1 or row == col :\n",
    "            print('*', end='')\n",
    "        else:\n",
    "            print(' ', end='')\n",
    "    print()"
   ]
  },
  {
   "cell_type": "code",
   "execution_count": null,
   "id": "e8641478",
   "metadata": {},
   "outputs": [],
   "source": []
  }
 ],
 "metadata": {
  "kernelspec": {
   "display_name": "Python 3",
   "language": "python",
   "name": "python3"
  },
  "language_info": {
   "codemirror_mode": {
    "name": "ipython",
    "version": 3
   },
   "file_extension": ".py",
   "mimetype": "text/x-python",
   "name": "python",
   "nbconvert_exporter": "python",
   "pygments_lexer": "ipython3",
   "version": "3.8.8"
  }
 },
 "nbformat": 4,
 "nbformat_minor": 5
}
