{
 "cells": [
  {
   "cell_type": "code",
   "execution_count": 16,
   "id": "4feb69b6",
   "metadata": {},
   "outputs": [],
   "source": [
    "### Print following pattern for any given number 'n' Follow the examples for more details "
   ]
  },
  {
   "attachments": {
    "image.png": {
     "image/png": "[encoded data removed]"
    }
   },
   "cell_type": "markdown",
   "id": "4f8fa887",
   "metadata": {},
   "source": [
    "### For n = 3\n",
    "![image.png](attachment:image.png)"
   ]
  },
  {
   "attachments": {
    "image.png": {
     "image/png": "[encoded data removed]"
    }
   },
   "cell_type": "markdown",
   "id": "c34c8841",
   "metadata": {},
   "source": [
    "### For n = 5\n",
    "![image.png](attachment:image.png)\n"
   ]
  },
  {
   "cell_type": "markdown",
   "id": "144e4adc",
   "metadata": {},
   "source": [
    "### Hint"
   ]
  },
  {
   "cell_type": "code",
   "execution_count": 17,
   "id": "60fd05d8",
   "metadata": {},
   "outputs": [
    {
     "name": "stdout",
     "output_type": "stream",
     "text": [
      "*i:1, j:0\n",
      "\n",
      "**i:2, j:0\n",
      "**i:2, j:1\n",
      "\n",
      "***i:3, j:0\n",
      "***i:3, j:1\n",
      "***i:3, j:2\n",
      "\n"
     ]
    }
   ],
   "source": [
    "n=3\n",
    "for i in range(1,n+1):\n",
    "    for j in range(0,i):\n",
    "        print(i*\"*\", end='')\n",
    "        print(f\"i:{i}, j:{j}\")\n",
    "    print()"
   ]
  },
  {
   "cell_type": "code",
   "execution_count": null,
   "id": "f45a2067",
   "metadata": {},
   "outputs": [],
   "source": []
  }
 ],
 "metadata": {
  "kernelspec": {
   "display_name": "Python 3",
   "language": "python",
   "name": "python3"
  },
  "language_info": {
   "codemirror_mode": {
    "name": "ipython",
    "version": 3
   },
   "file_extension": ".py",
   "mimetype": "text/x-python",
   "name": "python",
   "nbconvert_exporter": "python",
   "pygments_lexer": "ipython3",
   "version": "3.8.8"
  }
 },
 "nbformat": 4,
 "nbformat_minor": 5
}
